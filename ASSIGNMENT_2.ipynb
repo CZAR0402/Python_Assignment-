{
 "cells": [
  {
   "cell_type": "markdown",
   "id": "f62aaf01-4c65-4699-bc99-b0df798ac726",
   "metadata": {},
   "source": [
    "**Task 1: Check if a Number is Even or Odd**"
   ]
  },
  {
   "cell_type": "code",
   "execution_count": 5,
   "id": "1e02226b-00c2-4132-ba43-57a970649a68",
   "metadata": {},
   "outputs": [
    {
     "name": "stdin",
     "output_type": "stream",
     "text": [
      "Enter number: 5\n"
     ]
    },
    {
     "name": "stdout",
     "output_type": "stream",
     "text": [
      "5  is an odd number\n"
     ]
    }
   ],
   "source": [
    "a=int(input(\"Enter number:\"))\n",
    "\n",
    "if a % 2 == 0:\n",
    "    print(a,\" is an even number\")\n",
    "else:\n",
    "    print(a,\" is an odd number\")\n",
    "    "
   ]
  },
  {
   "cell_type": "markdown",
   "id": "6b11b582-0f02-4c27-94c3-c9dbdeb7e092",
   "metadata": {},
   "source": [
    "**Task 2: Sum of Integers from 1 to 50 Using a Loop**"
   ]
  },
  {
   "cell_type": "code",
   "execution_count": 2,
   "id": "76a8b829-8572-4ae2-957d-7ea2e98dabe5",
   "metadata": {},
   "outputs": [
    {
     "name": "stdout",
     "output_type": "stream",
     "text": [
      "The sum of nmbers from 1 to 50 is: 1275\n"
     ]
    }
   ],
   "source": [
    "sum = 0\n",
    "\n",
    "for i in range(1,51):\n",
    "    a=i\n",
    "    sum+=a\n",
    "print(\"The sum of nmbers from 1 to 50 is:\",sum)    "
   ]
  },
  {
   "cell_type": "code",
   "execution_count": null,
   "id": "8f8389c4-ee3c-4e48-a77f-1c346cafb348",
   "metadata": {},
   "outputs": [],
   "source": []
  }
 ],
 "metadata": {
  "kernelspec": {
   "display_name": "Python [conda env:base] *",
   "language": "python",
   "name": "conda-base-py"
  },
  "language_info": {
   "codemirror_mode": {
    "name": "ipython",
    "version": 3
   },
   "file_extension": ".py",
   "mimetype": "text/x-python",
   "name": "python",
   "nbconvert_exporter": "python",
   "pygments_lexer": "ipython3",
   "version": "3.12.7"
  }
 },
 "nbformat": 4,
 "nbformat_minor": 5
}
