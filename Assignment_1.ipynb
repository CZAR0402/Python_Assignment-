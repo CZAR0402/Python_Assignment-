{
 "cells": [
  {
   "cell_type": "markdown",
   "id": "f20adcf8-68b8-4c9a-8db0-1c8206d1dfc7",
   "metadata": {},
   "source": [
    "**TASK 1**"
   ]
  },
  {
   "cell_type": "markdown",
   "id": "20280774-8a65-4fb5-9fee-40becae349a5",
   "metadata": {},
   "source": [
    "a = input(\"Enter the first number: \")\n",
    "b = input(\"Enter the second number: \")"
   ]
  },
  {
   "cell_type": "code",
   "execution_count": 4,
   "id": "8153a7ea-3dc8-495a-9687-28d824fd13d6",
   "metadata": {},
   "outputs": [
    {
     "name": "stdout",
     "output_type": "stream",
     "text": [
      "Addition: 8\n"
     ]
    }
   ],
   "source": [
    "print('Addition:',int(a)+int(b))"
   ]
  },
  {
   "cell_type": "code",
   "execution_count": 5,
   "id": "440c81c2-2a8d-4e6a-8ffc-673f0439be26",
   "metadata": {},
   "outputs": [
    {
     "name": "stdout",
     "output_type": "stream",
     "text": [
      "Subtraction: -2\n"
     ]
    }
   ],
   "source": [
    "print('Subtraction:',int(a)-int(b))"
   ]
  },
  {
   "cell_type": "code",
   "execution_count": 6,
   "id": "db9d569c-c8a5-4b4f-8871-bda190b1055a",
   "metadata": {},
   "outputs": [
    {
     "name": "stdout",
     "output_type": "stream",
     "text": [
      "Multiplication: 15\n"
     ]
    }
   ],
   "source": [
    "print('Multiplication:',int(a)*int(b))"
   ]
  },
  {
   "cell_type": "code",
   "execution_count": 7,
   "id": "662ed3ea-e492-44b3-aab2-4b0d4f38ee03",
   "metadata": {},
   "outputs": [
    {
     "name": "stdout",
     "output_type": "stream",
     "text": [
      "Division: 0.6\n"
     ]
    }
   ],
   "source": [
    "print('Division:',int(a)/int(b))"
   ]
  },
  {
   "cell_type": "markdown",
   "id": "9134ce39-b84d-4e52-b0fd-aadcf80405bb",
   "metadata": {},
   "source": [
    "**TASK 2**"
   ]
  },
  {
   "cell_type": "code",
   "execution_count": 32,
   "id": "829f02c4-d0ba-4ae3-89b8-b029927a0a74",
   "metadata": {},
   "outputs": [
    {
     "name": "stdin",
     "output_type": "stream",
     "text": [
      "Enter the first name:  Harsh\n",
      "Enter the second name:   Raj\n"
     ]
    }
   ],
   "source": [
    "a = input(\"Enter the first name: \")\n",
    "b = input(\"Enter the second name: \")"
   ]
  },
  {
   "cell_type": "code",
   "execution_count": 33,
   "id": "38179384-9a80-4004-be1d-fe3e958d9b4c",
   "metadata": {},
   "outputs": [
    {
     "name": "stdout",
     "output_type": "stream",
     "text": [
      "Hello, Harsh Raj! Welcome to Python program.\n"
     ]
    }
   ],
   "source": [
    "print(\"Hello, \"+a+b+ \"! Welcome to Python program.\")"
   ]
  },
  {
   "cell_type": "code",
   "execution_count": null,
   "id": "9552be51-5591-4721-aab7-a85348614efe",
   "metadata": {},
   "outputs": [],
   "source": []
  }
 ],
 "metadata": {
  "kernelspec": {
   "display_name": "Python [conda env:base] *",
   "language": "python",
   "name": "conda-base-py"
  },
  "language_info": {
   "codemirror_mode": {
    "name": "ipython",
    "version": 3
   },
   "file_extension": ".py",
   "mimetype": "text/x-python",
   "name": "python",
   "nbconvert_exporter": "python",
   "pygments_lexer": "ipython3",
   "version": "3.12.7"
  }
 },
 "nbformat": 4,
 "nbformat_minor": 5
}
