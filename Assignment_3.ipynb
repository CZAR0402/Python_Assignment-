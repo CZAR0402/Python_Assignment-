{
 "cells": [
  {
   "cell_type": "markdown",
   "id": "c08d0576-3a4c-4e7b-9479-fc46fa7d7233",
   "metadata": {},
   "source": [
    "**Task 1: Calculate Factorial Using a Function**"
   ]
  },
  {
   "cell_type": "code",
   "execution_count": 7,
   "id": "5dfb34c6-639d-4d54-943a-7b118cbd4e72",
   "metadata": {},
   "outputs": [
    {
     "name": "stdin",
     "output_type": "stream",
     "text": [
      "Enter the number : 5\n"
     ]
    },
    {
     "name": "stdout",
     "output_type": "stream",
     "text": [
      "Factorial of 5 is:  120\n"
     ]
    }
   ],
   "source": [
    "n = int(input(\"Enter the number :\"))\n",
    "\n",
    "def factorial(a):\n",
    "    if a < 2:\n",
    "        return 1\n",
    "    else:\n",
    "        return a * (factorial(a-1))\n",
    "\n",
    "result = factorial(n)\n",
    "print(\"Factorial of\",n,\"is: \",result)"
   ]
  },
  {
   "cell_type": "markdown",
   "id": "a336437a-d423-457a-bdf8-e2ed18d5b40b",
   "metadata": {},
   "source": [
    "**Task 2: Using the Math Module for Calculations**"
   ]
  },
  {
   "cell_type": "code",
   "execution_count": 11,
   "id": "a38de72c-7aaf-4e40-a9dc-3546fd8f2e67",
   "metadata": {},
   "outputs": [
    {
     "name": "stdin",
     "output_type": "stream",
     "text": [
      "Enter the number:  25\n"
     ]
    },
    {
     "name": "stdout",
     "output_type": "stream",
     "text": [
      "Square root : 5\n",
      "Logarithm : 3.2188758248682006\n",
      "Sine : -0.13235175009777303\n"
     ]
    }
   ],
   "source": [
    "from math import *\n",
    "\n",
    "n=int(input(\"Enter the number: \"))\n",
    "\n",
    "print(\"Square root :\",isqrt(n))\n",
    "print(\"Logarithm :\",log(n))\n",
    "print(\"Sine :\",sin(n))"
   ]
  },
  {
   "cell_type": "code",
   "execution_count": null,
   "id": "bcc5e398-b0ce-4817-bd1d-04e974e049ab",
   "metadata": {},
   "outputs": [],
   "source": []
  }
 ],
 "metadata": {
  "kernelspec": {
   "display_name": "Python [conda env:base] *",
   "language": "python",
   "name": "conda-base-py"
  },
  "language_info": {
   "codemirror_mode": {
    "name": "ipython",
    "version": 3
   },
   "file_extension": ".py",
   "mimetype": "text/x-python",
   "name": "python",
   "nbconvert_exporter": "python",
   "pygments_lexer": "ipython3",
   "version": "3.12.7"
  }
 },
 "nbformat": 4,
 "nbformat_minor": 5
}
